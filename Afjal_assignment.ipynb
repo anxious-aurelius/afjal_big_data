{
  "nbformat": 4,
  "nbformat_minor": 0,
  "metadata": {
    "colab": {
      "provenance": [],
      "authorship_tag": "ABX9TyOwjVG84NADg0CUKjuUcZYI",
      "include_colab_link": true
    },
    "kernelspec": {
      "name": "python3",
      "display_name": "Python 3"
    },
    "language_info": {
      "name": "python"
    }
  },
  "cells": [
    {
      "cell_type": "markdown",
      "metadata": {
        "id": "view-in-github",
        "colab_type": "text"
      },
      "source": [
        "<a href=\"https://colab.research.google.com/github/anxious-aurelius/afjal_big_data/blob/main/Afjal_assignment.ipynb\" target=\"_parent\"><img src=\"https://colab.research.google.com/assets/colab-badge.svg\" alt=\"Open In Colab\"/></a>"
      ]
    },
    {
      "cell_type": "code",
      "execution_count": null,
      "metadata": {
        "id": "Baw0tlwbxdY5"
      },
      "outputs": [],
      "source": [
        "import numpy as np # linear algebra\n",
        "import pandas as pd # data processing, CSV file I/O (e.g. pd.read_csv)\n",
        "from pathlib import Path\n",
        "import matplotlib.pyplot as plt\n"
      ]
    },
    {
      "cell_type": "code",
      "source": [
        "DATA_DIR = Path(\"/content\")\n",
        "f_orders = DATA_DIR / \"olist_orders_dataset.csv\"\n",
        "f_items = DATA_DIR / \"olist_order_items_dataset.csv\"\n",
        "f_payments = DATA_DIR / \"olist_order_payments_dataset.csv\"\n",
        "f_reviews = DATA_DIR / \"olist_order_reviews_dataset.csv\"\n",
        "f_custom = DATA_DIR / \"olist_customers_dataset.csv\"\n",
        "f_products = DATA_DIR / \"olist_products_dataset.csv\"\n",
        "f_pcat = DATA_DIR / \"product_category_name_translation.csv\"\n",
        "\n",
        "parse_dates = [\"order_purchase_timestamp\",\n",
        "               \"order_approved_at\",\n",
        "               \"order_delivered_carrier_date\",\n",
        "               \"order_delivered_customer_date\",\n",
        "               \"order_estimated_delivery_date\"]\n",
        "\n",
        "orders = pd.read_csv(f_orders, parse_dates=parse_dates)\n",
        "items = pd.read_csv(f_items)\n",
        "payments = pd.read_csv(f_payments)\n",
        "reviews = pd.read_csv(f_reviews, parse_dates=[\"review_creation_date\", \"review_answer_timestamp\"])\n",
        "customers = pd.read_csv(f_custom)\n",
        "products = pd.read_csv(f_products)\n",
        "pcat = pd.read_csv(f_pcat)\n",
        "\n",
        "# Memory-friendly categories\n",
        "for col in ['order_id','customer_id','customer_unique_id','product_id','seller_id',\n",
        "            'payment_type','customer_city','customer_state','product_category_name',\n",
        "            'product_category_name_english','order_status']:\n",
        "    for df_ in [orders, items, payments, reviews, customers, products]:\n",
        "        if col in df_.columns:\n",
        "            try:\n",
        "                df_[col] = df_[col].astype('category')\n",
        "            except Exception:\n",
        "                pass\n",
        "\n",
        "print(f\"✓ Data loaded: {orders.shape[0]:,} orders\")"
      ],
      "metadata": {
        "colab": {
          "base_uri": "https://localhost:8080/"
        },
        "id": "fvg7Qo6Ex2us",
        "outputId": "8fdb9406-dbb0-4d81-a07c-94f66d6e31b3"
      },
      "execution_count": null,
      "outputs": [
        {
          "output_type": "stream",
          "name": "stdout",
          "text": [
            "✓ Data loaded: 99,441 orders\n"
          ]
        }
      ]
    },
    {
      "cell_type": "code",
      "source": [
        "# Filter only delivered orders\n",
        "orders_delivered = orders[orders['order_status'] == 'delivered'].copy()\n",
        "\n",
        "# Drop missing delivery or estimated dates\n",
        "orders_delivered.dropna(\n",
        "    subset=['order_delivered_customer_date', 'order_estimated_delivery_date'],\n",
        "    inplace=True\n",
        ")\n",
        "\n",
        "# Optional: ensure chronological consistency\n",
        "orders_delivered = orders_delivered[\n",
        "    orders_delivered['order_delivered_customer_date'] >= orders_delivered['order_purchase_timestamp']\n",
        "]\n"
      ],
      "metadata": {
        "id": "9jU_WM4G1ySF"
      },
      "execution_count": null,
      "outputs": []
    },
    {
      "cell_type": "code",
      "source": [
        "# 1️⃣ Order status distribution BEFORE filtering\n",
        "status_counts_before = orders['order_status'].value_counts()\n",
        "status_percent_before = (\n",
        "    orders['order_status'].value_counts(normalize=True).mul(100).round(2)\n",
        ")\n",
        "\n",
        "print(\"📦 Order Status Distribution (Before Filtering):\")\n",
        "print(pd.DataFrame({\n",
        "    'Count': status_counts_before,\n",
        "    'Percentage': status_percent_before\n",
        "}))\n",
        "\n",
        "# 2️⃣ Apply filtering\n",
        "orders_delivered = orders[orders['order_status'] == 'delivered'].copy()\n",
        "orders_delivered.dropna(\n",
        "    subset=['order_delivered_customer_date', 'order_estimated_delivery_date'],\n",
        "    inplace=True\n",
        ")\n",
        "orders_delivered = orders_delivered[\n",
        "    orders_delivered['order_delivered_customer_date'] >=\n",
        "    orders_delivered['order_purchase_timestamp']\n",
        "]\n",
        "\n",
        "# 3️⃣ Compare dataset sizes\n",
        "print(\"\\n🧾 Dataset Size Comparison:\")\n",
        "print(f\"Before filtering: {orders.shape[0]:,} rows\")\n",
        "print(f\"After filtering:  {orders_delivered.shape[0]:,} rows\")\n",
        "\n",
        "# 4️⃣ Order status distribution AFTER filtering\n",
        "status_counts_after = orders_delivered['order_status'].value_counts()\n",
        "status_percent_after = (\n",
        "    orders_delivered['order_status'].value_counts(normalize=True).mul(100).round(2)\n",
        ")\n",
        "\n",
        "print(\"\\n✅ Order Status Distribution (After Filtering):\")\n",
        "print(pd.DataFrame({\n",
        "    'Count': status_counts_after,\n",
        "    'Percentage': status_percent_after\n",
        "}))\n"
      ],
      "metadata": {
        "colab": {
          "base_uri": "https://localhost:8080/"
        },
        "id": "O24u1pcT1y4l",
        "outputId": "a3be7bcf-43ea-4876-c6cf-0b7bde932ce8"
      },
      "execution_count": null,
      "outputs": [
        {
          "output_type": "stream",
          "name": "stdout",
          "text": [
            "📦 Order Status Distribution (Before Filtering):\n",
            "              Count  Percentage\n",
            "order_status                   \n",
            "delivered     96478       97.02\n",
            "shipped        1107        1.11\n",
            "canceled        625        0.63\n",
            "unavailable     609        0.61\n",
            "invoiced        314        0.32\n",
            "processing      301        0.30\n",
            "created           5        0.01\n",
            "approved          2        0.00\n",
            "\n",
            "🧾 Dataset Size Comparison:\n",
            "Before filtering: 99,441 rows\n",
            "After filtering:  96,470 rows\n",
            "\n",
            "✅ Order Status Distribution (After Filtering):\n",
            "              Count  Percentage\n",
            "order_status                   \n",
            "delivered     96470       100.0\n",
            "approved          0         0.0\n",
            "canceled          0         0.0\n",
            "created           0         0.0\n",
            "invoiced          0         0.0\n",
            "processing        0         0.0\n",
            "shipped           0         0.0\n",
            "unavailable       0         0.0\n"
          ]
        }
      ]
    },
    {
      "cell_type": "markdown",
      "source": [
        "96% of orders were successfully delivered; non-delivered records were excluded to ensure analytical consistency."
      ],
      "metadata": {
        "id": "9-3Jo01F2MuD"
      }
    },
    {
      "cell_type": "code",
      "source": [
        "# 1️⃣ Drop rows where review_score is missing\n",
        "reviews_clean = reviews.dropna(subset=['review_score']).copy()\n",
        "\n",
        "# 2️⃣ Sort by order_id and timestamp so the latest review is first\n",
        "reviews_clean.sort_values(\n",
        "    by=['order_id', 'review_answer_timestamp'],\n",
        "    ascending=[True, False],\n",
        "    inplace=True\n",
        ")\n",
        "\n",
        "# 3️⃣ Keep the latest review per order\n",
        "reviews_clean = reviews_clean.drop_duplicates(subset='order_id', keep='first')"
      ],
      "metadata": {
        "id": "zYQItIL211Iz"
      },
      "execution_count": null,
      "outputs": []
    },
    {
      "cell_type": "code",
      "source": [
        "# Before vs After shape comparison\n",
        "print(\"🧾 Dataset Size Comparison:\")\n",
        "print(f\"Before cleaning: {reviews.shape[0]:,} rows\")\n",
        "print(f\"After cleaning:  {reviews_clean.shape[0]:,} rows\")\n",
        "\n",
        "# Check null values removed\n",
        "print(\"\\n❌ Missing review scores (before vs after):\")\n",
        "print(f\"Before: {reviews['review_score'].isna().sum()}\")\n",
        "print(f\"After:  {reviews_clean['review_score'].isna().sum()}\")\n",
        "\n",
        "# Check duplicate order_ids were removed\n",
        "duplicate_before = reviews['order_id'].duplicated().sum()\n",
        "duplicate_after = reviews_clean['order_id'].duplicated().sum()\n",
        "\n",
        "print(\"\\n🔁 Duplicate order_id entries (before vs after):\")\n",
        "print(f\"Before: {duplicate_before}\")\n",
        "print(f\"After:  {duplicate_after}\")\n",
        "\n",
        "# Optional: confirm the date order works\n",
        "reviews_clean[['order_id','review_creation_date','review_answer_timestamp']].head()"
      ],
      "metadata": {
        "colab": {
          "base_uri": "https://localhost:8080/",
          "height": 397
        },
        "id": "qqGXkKrA3J-r",
        "outputId": "438d303c-9b29-4e3c-f49e-867e70015439"
      },
      "execution_count": null,
      "outputs": [
        {
          "output_type": "stream",
          "name": "stdout",
          "text": [
            "🧾 Dataset Size Comparison:\n",
            "Before cleaning: 99,224 rows\n",
            "After cleaning:  98,673 rows\n",
            "\n",
            "❌ Missing review scores (before vs after):\n",
            "Before: 0\n",
            "After:  0\n",
            "\n",
            "🔁 Duplicate order_id entries (before vs after):\n",
            "Before: 551\n",
            "After:  0\n"
          ]
        },
        {
          "output_type": "execute_result",
          "data": {
            "text/plain": [
              "                               order_id review_creation_date  \\\n",
              "51963  00010242fe8c5a6d1ba2dd792cb16214           2017-09-21   \n",
              "27823  00018f77f2f0320c557190d7a144bdd3           2017-05-13   \n",
              "4218   000229ec398224ef6ca0657da4fc703e           2018-01-23   \n",
              "38844  00024acbcdf0a6daa1e931b038114c75           2018-08-15   \n",
              "55676  00042b26cf59d7ce69dfabb4e55b4fd9           2017-03-02   \n",
              "\n",
              "      review_answer_timestamp  \n",
              "51963     2017-09-22 10:57:03  \n",
              "27823     2017-05-15 11:34:13  \n",
              "4218      2018-01-23 16:06:31  \n",
              "38844     2018-08-15 16:39:01  \n",
              "55676     2017-03-03 10:54:59  "
            ],
            "text/html": [
              "\n",
              "  <div id=\"df-438614f8-15e6-4b01-9fa1-92784cc39676\" class=\"colab-df-container\">\n",
              "    <div>\n",
              "<style scoped>\n",
              "    .dataframe tbody tr th:only-of-type {\n",
              "        vertical-align: middle;\n",
              "    }\n",
              "\n",
              "    .dataframe tbody tr th {\n",
              "        vertical-align: top;\n",
              "    }\n",
              "\n",
              "    .dataframe thead th {\n",
              "        text-align: right;\n",
              "    }\n",
              "</style>\n",
              "<table border=\"1\" class=\"dataframe\">\n",
              "  <thead>\n",
              "    <tr style=\"text-align: right;\">\n",
              "      <th></th>\n",
              "      <th>order_id</th>\n",
              "      <th>review_creation_date</th>\n",
              "      <th>review_answer_timestamp</th>\n",
              "    </tr>\n",
              "  </thead>\n",
              "  <tbody>\n",
              "    <tr>\n",
              "      <th>51963</th>\n",
              "      <td>00010242fe8c5a6d1ba2dd792cb16214</td>\n",
              "      <td>2017-09-21</td>\n",
              "      <td>2017-09-22 10:57:03</td>\n",
              "    </tr>\n",
              "    <tr>\n",
              "      <th>27823</th>\n",
              "      <td>00018f77f2f0320c557190d7a144bdd3</td>\n",
              "      <td>2017-05-13</td>\n",
              "      <td>2017-05-15 11:34:13</td>\n",
              "    </tr>\n",
              "    <tr>\n",
              "      <th>4218</th>\n",
              "      <td>000229ec398224ef6ca0657da4fc703e</td>\n",
              "      <td>2018-01-23</td>\n",
              "      <td>2018-01-23 16:06:31</td>\n",
              "    </tr>\n",
              "    <tr>\n",
              "      <th>38844</th>\n",
              "      <td>00024acbcdf0a6daa1e931b038114c75</td>\n",
              "      <td>2018-08-15</td>\n",
              "      <td>2018-08-15 16:39:01</td>\n",
              "    </tr>\n",
              "    <tr>\n",
              "      <th>55676</th>\n",
              "      <td>00042b26cf59d7ce69dfabb4e55b4fd9</td>\n",
              "      <td>2017-03-02</td>\n",
              "      <td>2017-03-03 10:54:59</td>\n",
              "    </tr>\n",
              "  </tbody>\n",
              "</table>\n",
              "</div>\n",
              "    <div class=\"colab-df-buttons\">\n",
              "\n",
              "  <div class=\"colab-df-container\">\n",
              "    <button class=\"colab-df-convert\" onclick=\"convertToInteractive('df-438614f8-15e6-4b01-9fa1-92784cc39676')\"\n",
              "            title=\"Convert this dataframe to an interactive table.\"\n",
              "            style=\"display:none;\">\n",
              "\n",
              "  <svg xmlns=\"http://www.w3.org/2000/svg\" height=\"24px\" viewBox=\"0 -960 960 960\">\n",
              "    <path d=\"M120-120v-720h720v720H120Zm60-500h600v-160H180v160Zm220 220h160v-160H400v160Zm0 220h160v-160H400v160ZM180-400h160v-160H180v160Zm440 0h160v-160H620v160ZM180-180h160v-160H180v160Zm440 0h160v-160H620v160Z\"/>\n",
              "  </svg>\n",
              "    </button>\n",
              "\n",
              "  <style>\n",
              "    .colab-df-container {\n",
              "      display:flex;\n",
              "      gap: 12px;\n",
              "    }\n",
              "\n",
              "    .colab-df-convert {\n",
              "      background-color: #E8F0FE;\n",
              "      border: none;\n",
              "      border-radius: 50%;\n",
              "      cursor: pointer;\n",
              "      display: none;\n",
              "      fill: #1967D2;\n",
              "      height: 32px;\n",
              "      padding: 0 0 0 0;\n",
              "      width: 32px;\n",
              "    }\n",
              "\n",
              "    .colab-df-convert:hover {\n",
              "      background-color: #E2EBFA;\n",
              "      box-shadow: 0px 1px 2px rgba(60, 64, 67, 0.3), 0px 1px 3px 1px rgba(60, 64, 67, 0.15);\n",
              "      fill: #174EA6;\n",
              "    }\n",
              "\n",
              "    .colab-df-buttons div {\n",
              "      margin-bottom: 4px;\n",
              "    }\n",
              "\n",
              "    [theme=dark] .colab-df-convert {\n",
              "      background-color: #3B4455;\n",
              "      fill: #D2E3FC;\n",
              "    }\n",
              "\n",
              "    [theme=dark] .colab-df-convert:hover {\n",
              "      background-color: #434B5C;\n",
              "      box-shadow: 0px 1px 3px 1px rgba(0, 0, 0, 0.15);\n",
              "      filter: drop-shadow(0px 1px 2px rgba(0, 0, 0, 0.3));\n",
              "      fill: #FFFFFF;\n",
              "    }\n",
              "  </style>\n",
              "\n",
              "    <script>\n",
              "      const buttonEl =\n",
              "        document.querySelector('#df-438614f8-15e6-4b01-9fa1-92784cc39676 button.colab-df-convert');\n",
              "      buttonEl.style.display =\n",
              "        google.colab.kernel.accessAllowed ? 'block' : 'none';\n",
              "\n",
              "      async function convertToInteractive(key) {\n",
              "        const element = document.querySelector('#df-438614f8-15e6-4b01-9fa1-92784cc39676');\n",
              "        const dataTable =\n",
              "          await google.colab.kernel.invokeFunction('convertToInteractive',\n",
              "                                                    [key], {});\n",
              "        if (!dataTable) return;\n",
              "\n",
              "        const docLinkHtml = 'Like what you see? Visit the ' +\n",
              "          '<a target=\"_blank\" href=https://colab.research.google.com/notebooks/data_table.ipynb>data table notebook</a>'\n",
              "          + ' to learn more about interactive tables.';\n",
              "        element.innerHTML = '';\n",
              "        dataTable['output_type'] = 'display_data';\n",
              "        await google.colab.output.renderOutput(dataTable, element);\n",
              "        const docLink = document.createElement('div');\n",
              "        docLink.innerHTML = docLinkHtml;\n",
              "        element.appendChild(docLink);\n",
              "      }\n",
              "    </script>\n",
              "  </div>\n",
              "\n",
              "\n",
              "    <div id=\"df-98f323ff-341e-4bdb-add3-1ddb76ca47b1\">\n",
              "      <button class=\"colab-df-quickchart\" onclick=\"quickchart('df-98f323ff-341e-4bdb-add3-1ddb76ca47b1')\"\n",
              "                title=\"Suggest charts\"\n",
              "                style=\"display:none;\">\n",
              "\n",
              "<svg xmlns=\"http://www.w3.org/2000/svg\" height=\"24px\"viewBox=\"0 0 24 24\"\n",
              "     width=\"24px\">\n",
              "    <g>\n",
              "        <path d=\"M19 3H5c-1.1 0-2 .9-2 2v14c0 1.1.9 2 2 2h14c1.1 0 2-.9 2-2V5c0-1.1-.9-2-2-2zM9 17H7v-7h2v7zm4 0h-2V7h2v10zm4 0h-2v-4h2v4z\"/>\n",
              "    </g>\n",
              "</svg>\n",
              "      </button>\n",
              "\n",
              "<style>\n",
              "  .colab-df-quickchart {\n",
              "      --bg-color: #E8F0FE;\n",
              "      --fill-color: #1967D2;\n",
              "      --hover-bg-color: #E2EBFA;\n",
              "      --hover-fill-color: #174EA6;\n",
              "      --disabled-fill-color: #AAA;\n",
              "      --disabled-bg-color: #DDD;\n",
              "  }\n",
              "\n",
              "  [theme=dark] .colab-df-quickchart {\n",
              "      --bg-color: #3B4455;\n",
              "      --fill-color: #D2E3FC;\n",
              "      --hover-bg-color: #434B5C;\n",
              "      --hover-fill-color: #FFFFFF;\n",
              "      --disabled-bg-color: #3B4455;\n",
              "      --disabled-fill-color: #666;\n",
              "  }\n",
              "\n",
              "  .colab-df-quickchart {\n",
              "    background-color: var(--bg-color);\n",
              "    border: none;\n",
              "    border-radius: 50%;\n",
              "    cursor: pointer;\n",
              "    display: none;\n",
              "    fill: var(--fill-color);\n",
              "    height: 32px;\n",
              "    padding: 0;\n",
              "    width: 32px;\n",
              "  }\n",
              "\n",
              "  .colab-df-quickchart:hover {\n",
              "    background-color: var(--hover-bg-color);\n",
              "    box-shadow: 0 1px 2px rgba(60, 64, 67, 0.3), 0 1px 3px 1px rgba(60, 64, 67, 0.15);\n",
              "    fill: var(--button-hover-fill-color);\n",
              "  }\n",
              "\n",
              "  .colab-df-quickchart-complete:disabled,\n",
              "  .colab-df-quickchart-complete:disabled:hover {\n",
              "    background-color: var(--disabled-bg-color);\n",
              "    fill: var(--disabled-fill-color);\n",
              "    box-shadow: none;\n",
              "  }\n",
              "\n",
              "  .colab-df-spinner {\n",
              "    border: 2px solid var(--fill-color);\n",
              "    border-color: transparent;\n",
              "    border-bottom-color: var(--fill-color);\n",
              "    animation:\n",
              "      spin 1s steps(1) infinite;\n",
              "  }\n",
              "\n",
              "  @keyframes spin {\n",
              "    0% {\n",
              "      border-color: transparent;\n",
              "      border-bottom-color: var(--fill-color);\n",
              "      border-left-color: var(--fill-color);\n",
              "    }\n",
              "    20% {\n",
              "      border-color: transparent;\n",
              "      border-left-color: var(--fill-color);\n",
              "      border-top-color: var(--fill-color);\n",
              "    }\n",
              "    30% {\n",
              "      border-color: transparent;\n",
              "      border-left-color: var(--fill-color);\n",
              "      border-top-color: var(--fill-color);\n",
              "      border-right-color: var(--fill-color);\n",
              "    }\n",
              "    40% {\n",
              "      border-color: transparent;\n",
              "      border-right-color: var(--fill-color);\n",
              "      border-top-color: var(--fill-color);\n",
              "    }\n",
              "    60% {\n",
              "      border-color: transparent;\n",
              "      border-right-color: var(--fill-color);\n",
              "    }\n",
              "    80% {\n",
              "      border-color: transparent;\n",
              "      border-right-color: var(--fill-color);\n",
              "      border-bottom-color: var(--fill-color);\n",
              "    }\n",
              "    90% {\n",
              "      border-color: transparent;\n",
              "      border-bottom-color: var(--fill-color);\n",
              "    }\n",
              "  }\n",
              "</style>\n",
              "\n",
              "      <script>\n",
              "        async function quickchart(key) {\n",
              "          const quickchartButtonEl =\n",
              "            document.querySelector('#' + key + ' button');\n",
              "          quickchartButtonEl.disabled = true;  // To prevent multiple clicks.\n",
              "          quickchartButtonEl.classList.add('colab-df-spinner');\n",
              "          try {\n",
              "            const charts = await google.colab.kernel.invokeFunction(\n",
              "                'suggestCharts', [key], {});\n",
              "          } catch (error) {\n",
              "            console.error('Error during call to suggestCharts:', error);\n",
              "          }\n",
              "          quickchartButtonEl.classList.remove('colab-df-spinner');\n",
              "          quickchartButtonEl.classList.add('colab-df-quickchart-complete');\n",
              "        }\n",
              "        (() => {\n",
              "          let quickchartButtonEl =\n",
              "            document.querySelector('#df-98f323ff-341e-4bdb-add3-1ddb76ca47b1 button');\n",
              "          quickchartButtonEl.style.display =\n",
              "            google.colab.kernel.accessAllowed ? 'block' : 'none';\n",
              "        })();\n",
              "      </script>\n",
              "    </div>\n",
              "\n",
              "    </div>\n",
              "  </div>\n"
            ],
            "application/vnd.google.colaboratory.intrinsic+json": {
              "type": "dataframe",
              "summary": "{\n  \"name\": \"reviews_clean[['order_id','review_creation_date','review_answer_timestamp']]\",\n  \"rows\": 5,\n  \"fields\": [\n    {\n      \"column\": \"order_id\",\n      \"properties\": {\n        \"dtype\": \"category\",\n        \"num_unique_values\": 5,\n        \"samples\": [\n          \"00018f77f2f0320c557190d7a144bdd3\",\n          \"00042b26cf59d7ce69dfabb4e55b4fd9\",\n          \"000229ec398224ef6ca0657da4fc703e\"\n        ],\n        \"semantic_type\": \"\",\n        \"description\": \"\"\n      }\n    },\n    {\n      \"column\": \"review_creation_date\",\n      \"properties\": {\n        \"dtype\": \"date\",\n        \"min\": \"2017-03-02 00:00:00\",\n        \"max\": \"2018-08-15 00:00:00\",\n        \"num_unique_values\": 5,\n        \"samples\": [\n          \"2017-05-13 00:00:00\",\n          \"2017-03-02 00:00:00\",\n          \"2018-01-23 00:00:00\"\n        ],\n        \"semantic_type\": \"\",\n        \"description\": \"\"\n      }\n    },\n    {\n      \"column\": \"review_answer_timestamp\",\n      \"properties\": {\n        \"dtype\": \"date\",\n        \"min\": \"2017-03-03 10:54:59\",\n        \"max\": \"2018-08-15 16:39:01\",\n        \"num_unique_values\": 5,\n        \"samples\": [\n          \"2017-05-15 11:34:13\",\n          \"2017-03-03 10:54:59\",\n          \"2018-01-23 16:06:31\"\n        ],\n        \"semantic_type\": \"\",\n        \"description\": \"\"\n      }\n    }\n  ]\n}"
            }
          },
          "metadata": {},
          "execution_count": 8
        }
      ]
    },
    {
      "cell_type": "code",
      "source": [
        "# Inner join ensures we keep only orders that have a corresponding review\n",
        "orders_reviewed = pd.merge(\n",
        "    orders_delivered,\n",
        "    reviews_clean[['order_id', 'review_score', 'review_creation_date', 'review_answer_timestamp']],\n",
        "    on='order_id',\n",
        "    how='inner'\n",
        ")"
      ],
      "metadata": {
        "id": "T1NYu9833N5A"
      },
      "execution_count": null,
      "outputs": []
    },
    {
      "cell_type": "code",
      "source": [
        "# Dataset size before and after merging\n",
        "print(\"🧾 Dataset Size Comparison:\")\n",
        "print(f\"Delivered orders: {orders_delivered.shape[0]:,}\")\n",
        "print(f\"Cleaned reviews:  {reviews_clean.shape[0]:,}\")\n",
        "print(f\"Merged dataset:   {orders_reviewed.shape[0]:,}\")\n",
        "\n",
        "# Sanity check: should have no nulls in key columns\n",
        "print(\"\\n🔍 Missing Values in Key Columns:\")\n",
        "print(orders_reviewed[['order_id', 'order_status', 'review_score']].isna().sum())\n",
        "\n",
        "# Quick check of review score distribution\n",
        "print(\"\\n⭐ Review Score Distribution:\")\n",
        "print(orders_reviewed['review_score'].value_counts(normalize=True).mul(100).round(2))"
      ],
      "metadata": {
        "colab": {
          "base_uri": "https://localhost:8080/"
        },
        "id": "eNMq39Lc4Z_N",
        "outputId": "4f79232b-8ee4-45a5-f446-a86e07ee36bb"
      },
      "execution_count": null,
      "outputs": [
        {
          "output_type": "stream",
          "name": "stdout",
          "text": [
            "🧾 Dataset Size Comparison:\n",
            "Delivered orders: 96,470\n",
            "Cleaned reviews:  98,673\n",
            "Merged dataset:   95,824\n",
            "\n",
            "🔍 Missing Values in Key Columns:\n",
            "order_id        0\n",
            "order_status    0\n",
            "review_score    0\n",
            "dtype: int64\n",
            "\n",
            "⭐ Review Score Distribution:\n",
            "review_score\n",
            "5    59.22\n",
            "4    19.71\n",
            "1     9.76\n",
            "3     8.26\n",
            "2     3.05\n",
            "Name: proportion, dtype: float64\n"
          ]
        }
      ]
    },
    {
      "cell_type": "code",
      "source": [
        "\n",
        "orders_reviewed['review_score'].value_counts().sort_index().plot(\n",
        "    kind='bar', color='skyblue', edgecolor='black'\n",
        ")\n",
        "plt.title(\"Distribution of Customer Review Scores\")\n",
        "plt.xlabel(\"Review Score\")\n",
        "plt.ylabel(\"Number of Orders\")\n",
        "plt.show()"
      ],
      "metadata": {
        "colab": {
          "base_uri": "https://localhost:8080/",
          "height": 467
        },
        "id": "l6gM05qG4hM5",
        "outputId": "d7c9a72d-c0e0-4263-cd60-7adf83e76f07"
      },
      "execution_count": null,
      "outputs": [
        {
          "output_type": "display_data",
          "data": {
            "text/plain": [
              "<Figure size 640x480 with 1 Axes>"
            ],
            "image/png": "[encoded data removed]"
          },
          "metadata": {}
        }
      ]
    },
    {
      "cell_type": "code",
      "source": [
        "# print(\"🧾 Dataset Overview:\")\n",
        "# print(orders_reviewed.info())\n",
        "# print(\"\\nQuick Summary Stats:\")\n",
        "# display(orders_reviewed.describe(include='all'))\n"
      ],
      "metadata": {
        "id": "j8wphOE24pSi"
      },
      "execution_count": null,
      "outputs": []
    },
    {
      "cell_type": "code",
      "source": [
        "# # Count total nulls per column\n",
        "# print(\"\\n🔍 Missing Values by Column:\")\n",
        "# print(orders_reviewed.isna().sum().sort_values(ascending=False).head(10))\n",
        "\n",
        "# # Sanity check: should have zero nulls in key columns\n",
        "# key_cols = ['order_id', 'order_status', 'review_score',\n",
        "#             'order_purchase_timestamp', 'order_delivered_customer_date']\n",
        "# print(\"\\nKey Columns Null Check:\")\n",
        "# print(orders_reviewed[key_cols].isna().sum())"
      ],
      "metadata": {
        "id": "YxhEqSEX5SGA"
      },
      "execution_count": null,
      "outputs": []
    },
    {
      "cell_type": "code",
      "source": [
        "print(f\"✅ orders_reviewed shape: {orders_reviewed.shape}\")\n",
        "print(f\"🔁 Duplicates: {orders_reviewed['order_id'].duplicated().sum()}\")\n",
        "print(f\"⚠️ Missing values: {orders_reviewed.isna().sum().sum()}\")"
      ],
      "metadata": {
        "colab": {
          "base_uri": "https://localhost:8080/"
        },
        "id": "jz9VOJIn5e4u",
        "outputId": "232068ef-fba0-4a82-f1ce-b599de9bedc0"
      },
      "execution_count": null,
      "outputs": [
        {
          "output_type": "stream",
          "name": "stdout",
          "text": [
            "✅ orders_reviewed shape: (95824, 11)\n",
            "🔁 Duplicates: 0\n",
            "⚠️ Missing values: 15\n"
          ]
        }
      ]
    },
    {
      "cell_type": "code",
      "source": [
        "\n",
        "\n",
        "# Check datatypes of all datetime-related columns\n",
        "date_cols = [\n",
        "    \"order_purchase_timestamp\",\n",
        "    \"order_approved_at\",\n",
        "    \"order_delivered_carrier_date\",\n",
        "    \"order_delivered_customer_date\",\n",
        "    \"order_estimated_delivery_date\"\n",
        "]\n",
        "\n",
        "print(\"🧭 Checking datetime columns in 'orders' table:\\n\")\n",
        "for col in date_cols:\n",
        "    dtype = orders[col].dtype\n",
        "    print(f\"{col:<35}: {dtype}\")"
      ],
      "metadata": {
        "colab": {
          "base_uri": "https://localhost:8080/"
        },
        "id": "DTtzWMY_6CXA",
        "outputId": "349923b6-af2a-4238-8f43-08ab17093c3b"
      },
      "execution_count": null,
      "outputs": [
        {
          "output_type": "stream",
          "name": "stdout",
          "text": [
            "🧭 Checking datetime columns in 'orders' table:\n",
            "\n",
            "order_purchase_timestamp           : datetime64[ns]\n",
            "order_approved_at                  : datetime64[ns]\n",
            "order_delivered_carrier_date       : datetime64[ns]\n",
            "order_delivered_customer_date      : datetime64[ns]\n",
            "order_estimated_delivery_date      : datetime64[ns]\n"
          ]
        }
      ]
    },
    {
      "cell_type": "code",
      "source": [
        "for col in date_cols:\n",
        "    invalid = orders[~orders[col].apply(lambda x: pd.api.types.is_datetime64_any_dtype(type(x)))][col]\n",
        "    if not invalid.empty:\n",
        "        print(f\"⚠️ Non-datetime entries found in {col}:\")\n",
        "        print(invalid.head())\n",
        "    else:\n",
        "        print(f\"✅ {col} — all entries are datetime objects\")"
      ],
      "metadata": {
        "colab": {
          "base_uri": "https://localhost:8080/"
        },
        "id": "KWLTqUNmAUU6",
        "outputId": "8c21e298-6564-44a1-de6f-0af81ccd4d40"
      },
      "execution_count": null,
      "outputs": [
        {
          "output_type": "stream",
          "name": "stdout",
          "text": [
            "⚠️ Non-datetime entries found in order_purchase_timestamp:\n",
            "0   2017-10-02 10:56:33\n",
            "1   2018-07-24 20:41:37\n",
            "2   2018-08-08 08:38:49\n",
            "3   2017-11-18 19:28:06\n",
            "4   2018-02-13 21:18:39\n",
            "Name: order_purchase_timestamp, dtype: datetime64[ns]\n",
            "⚠️ Non-datetime entries found in order_approved_at:\n",
            "0   2017-10-02 11:07:15\n",
            "1   2018-07-26 03:24:27\n",
            "2   2018-08-08 08:55:23\n",
            "3   2017-11-18 19:45:59\n",
            "4   2018-02-13 22:20:29\n",
            "Name: order_approved_at, dtype: datetime64[ns]\n",
            "⚠️ Non-datetime entries found in order_delivered_carrier_date:\n",
            "0   2017-10-04 19:55:00\n",
            "1   2018-07-26 14:31:00\n",
            "2   2018-08-08 13:50:00\n",
            "3   2017-11-22 13:39:59\n",
            "4   2018-02-14 19:46:34\n",
            "Name: order_delivered_carrier_date, dtype: datetime64[ns]\n",
            "⚠️ Non-datetime entries found in order_delivered_customer_date:\n",
            "0   2017-10-10 21:25:13\n",
            "1   2018-08-07 15:27:45\n",
            "2   2018-08-17 18:06:29\n",
            "3   2017-12-02 00:28:42\n",
            "4   2018-02-16 18:17:02\n",
            "Name: order_delivered_customer_date, dtype: datetime64[ns]\n",
            "⚠️ Non-datetime entries found in order_estimated_delivery_date:\n",
            "0   2017-10-18\n",
            "1   2018-08-13\n",
            "2   2018-09-04\n",
            "3   2017-12-15\n",
            "4   2018-02-26\n",
            "Name: order_estimated_delivery_date, dtype: datetime64[ns]\n"
          ]
        }
      ]
    },
    {
      "cell_type": "code",
      "source": [
        "for col in date_cols:\n",
        "    print(f\"\\n🕒 Sample unique values from {col}:\")\n",
        "    print(orders[col].dropna().sort_values().head(3))\n",
        "    print(orders[col].dropna().sort_values().tail(3))"
      ],
      "metadata": {
        "colab": {
          "base_uri": "https://localhost:8080/"
        },
        "id": "FlydbSV6AX3l",
        "outputId": "d2040f99-bc53-4897-a784-166c4764c5df"
      },
      "execution_count": null,
      "outputs": [
        {
          "output_type": "stream",
          "name": "stdout",
          "text": [
            "\n",
            "🕒 Sample unique values from order_purchase_timestamp:\n",
            "4541    2016-09-04 21:15:19\n",
            "4396    2016-09-05 00:15:34\n",
            "10071   2016-09-13 15:24:19\n",
            "Name: order_purchase_timestamp, dtype: datetime64[ns]\n",
            "31891   2018-10-03 18:55:29\n",
            "68373   2018-10-16 20:16:02\n",
            "60938   2018-10-17 17:30:18\n",
            "Name: order_purchase_timestamp, dtype: datetime64[ns]\n",
            "\n",
            "🕒 Sample unique values from order_approved_at:\n",
            "30710   2016-09-15 12:16:38\n",
            "64058   2016-10-04 09:43:32\n",
            "92636   2016-10-04 10:18:57\n",
            "Name: order_approved_at, dtype: datetime64[ns]\n",
            "69678   2018-08-29 15:05:22\n",
            "88097   2018-08-29 15:10:26\n",
            "62360   2018-09-03 17:40:06\n",
            "Name: order_approved_at, dtype: datetime64[ns]\n",
            "\n",
            "🕒 Sample unique values from order_delivered_carrier_date:\n",
            "6747    2016-10-08 10:34:01\n",
            "59102   2016-10-08 13:46:32\n",
            "1384    2016-10-08 14:46:49\n",
            "Name: order_delivered_carrier_date, dtype: datetime64[ns]\n",
            "21938   2018-09-03 12:56:00\n",
            "62360   2018-09-04 15:25:00\n",
            "96277   2018-09-11 19:48:28\n",
            "Name: order_delivered_carrier_date, dtype: datetime64[ns]\n",
            "\n",
            "🕒 Sample unique values from order_delivered_customer_date:\n",
            "59102   2016-10-11 13:46:32\n",
            "1384    2016-10-11 14:46:49\n",
            "56143   2016-10-13 03:10:34\n",
            "Name: order_delivered_customer_date, dtype: datetime64[ns]\n",
            "92319   2018-10-02 00:18:50\n",
            "56635   2018-10-11 16:41:14\n",
            "18731   2018-10-17 13:22:46\n",
            "Name: order_delivered_customer_date, dtype: datetime64[ns]\n",
            "\n",
            "🕒 Sample unique values from order_estimated_delivery_date:\n",
            "10071   2016-09-30\n",
            "30710   2016-10-04\n",
            "4541    2016-10-20\n",
            "Name: order_estimated_delivery_date, dtype: datetime64[ns]\n",
            "82521   2018-10-25\n",
            "60938   2018-10-30\n",
            "68373   2018-11-12\n",
            "Name: order_estimated_delivery_date, dtype: datetime64[ns]\n"
          ]
        }
      ]
    },
    {
      "cell_type": "code",
      "source": [
        "orders[col] = pd.to_datetime(orders[col], errors='coerce')"
      ],
      "metadata": {
        "id": "8WkmR9StAc11"
      },
      "execution_count": null,
      "outputs": []
    }
  ]
}